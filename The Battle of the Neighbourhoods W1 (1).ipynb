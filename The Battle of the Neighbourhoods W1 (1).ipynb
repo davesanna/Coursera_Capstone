{
 "cells": [
  {
   "cell_type": "markdown",
   "metadata": {},
   "source": [
    "## The Battle of the Neighbourhoods W1\n",
    "\n",
    "\n",
    "The notebook will deal with helping a client to select the best location to open his new italian restaurant in Frankfurt.\n",
    "In the analysis will be fundamental to discover the neighbourhoods with the highest amount of population in relation to the number of restaurants present in the area.\n",
    "\n",
    "\n",
    "\n",
    "\n",
    "The data needed will be:\n",
    "\n",
    "1. List of Neighbourhoods of Frankfurt (w/ latitude and longitude, available at https://en.wikipedia.org/wiki/Category:Districts_of_Frankfurt)\n",
    "2. List and amount of Restaurants in every neighbourough by category\n",
    "3. Consider neighbourhoods with highest population, less restaurants and lower rent prices for location selection (best trade-off)\n",
    "\n",
    "\n",
    "After having scratched the data from the wiki page through BeautifulSoup, latitude and longitude will be extracted thanks to a geolocator object; therefore a map will be showed to locate all the neighbourhoods in the city.\n",
    "\n",
    "Analzying prices, population and presence of competitors, the best trade-off (and therefore best neighbourhood for the new restaurant) will be found\n",
    "\n",
    "Population per Neighbourhood: https://www.von-poll.com/de/marktberichte/frankfurt-am-main\n",
    "\n",
    "Prices: https://www.handelsblatt.com/finanzen/immobilien/ratgeber-hintergrund/special-trendviertel/alle-viertel-im-ueberblick-die-besten-lagen-von-frankfurt/4198904.html?ticket=ST-2475518-4TPe3hClSGjKBSy0BC22-ap3"
   ]
  }
 ],
 "metadata": {
  "kernelspec": {
   "display_name": "coursera",
   "language": "python",
   "name": "coursera"
  },
  "language_info": {
   "codemirror_mode": {
    "name": "ipython",
    "version": 3
   },
   "file_extension": ".py",
   "mimetype": "text/x-python",
   "name": "python",
   "nbconvert_exporter": "python",
   "pygments_lexer": "ipython3",
   "version": "3.8.0"
  }
 },
 "nbformat": 4,
 "nbformat_minor": 4
}
