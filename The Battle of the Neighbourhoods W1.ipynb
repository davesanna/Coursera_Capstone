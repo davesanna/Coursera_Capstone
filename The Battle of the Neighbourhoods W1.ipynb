{
 "cells": [
  {
   "cell_type": "markdown",
   "metadata": {},
   "source": [
    "## The Battle of the Neighbourhoods W1\n",
    "\n",
    "\n",
    "The notebook will deal with helping a client to select the best location to open his new italian restaurant in Frankfurt.\n",
    "In the analysis will be fundamental to discover the neighbourhoods with the highest amount of population in realtion to the number of restaurants present in the area.\n",
    "\n",
    "\n",
    "\n",
    "\n",
    "The data needed will be:\n",
    "\n",
    "1. List of Neighbourhoods of Frankfurt (w/ latitude and longitude)\n",
    "2. List and amount of Restaurants in every neighbourough by category "
   ]
  }
 ],
 "metadata": {
  "kernelspec": {
   "display_name": "coursera",
   "language": "python",
   "name": "coursera"
  },
  "language_info": {
   "codemirror_mode": {
    "name": "ipython",
    "version": 3
   },
   "file_extension": ".py",
   "mimetype": "text/x-python",
   "name": "python",
   "nbconvert_exporter": "python",
   "pygments_lexer": "ipython3",
   "version": "3.8.0"
  }
 },
 "nbformat": 4,
 "nbformat_minor": 4
}
